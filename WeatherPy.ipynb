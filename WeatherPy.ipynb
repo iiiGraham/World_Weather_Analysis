{
 "metadata": {
  "language_info": {
   "codemirror_mode": {
    "name": "ipython",
    "version": 3
   },
   "file_extension": ".py",
   "mimetype": "text/x-python",
   "name": "python",
   "nbconvert_exporter": "python",
   "pygments_lexer": "ipython3",
   "version": "3.7.3"
  },
  "orig_nbformat": 2,
  "kernelspec": {
   "name": "python373jvsc74a57bd00b1100a6e3d86991db2f81aa57c997bff50562e4634186a3ede3838f47f03487",
   "display_name": "Python 3.7.3 64-bit ('base': conda)"
  }
 },
 "nbformat": 4,
 "nbformat_minor": 2,
 "cells": [
  {
   "cell_type": "code",
   "execution_count": 8,
   "metadata": {},
   "outputs": [],
   "source": [
    "# import dependencies\n",
    "import pandas as pd\n",
    "import matplotlib.pyplot as plt\n",
    "import numpy as np\n",
    "from citipy import citipy"
   ]
  },
  {
   "cell_type": "code",
   "execution_count": 2,
   "metadata": {},
   "outputs": [
    {
     "output_type": "execute_result",
     "data": {
      "text/plain": [
       "<zip at 0x1d6bbbe5548>"
      ]
     },
     "metadata": {},
     "execution_count": 2
    }
   ],
   "source": [
    "# declare latitude and longitude variables to hold arrays and create random lat and long combinations\n",
    "lats = np.random.uniform(-90.000, 90.000, size=1500)\n",
    "lngs = np.random.uniform(-180.000, 180.000, size=1500)\n",
    "lat_lngs = zip(lats, lngs)\n",
    "lat_lngs"
   ]
  },
  {
   "cell_type": "code",
   "execution_count": 3,
   "metadata": {},
   "outputs": [
    {
     "output_type": "execute_result",
     "data": {
      "text/plain": [
       "array([ 10.65394999, -35.2693484 , -19.00830026, ..., -13.63242502,\n",
       "       -29.09008601,  76.743433  ])"
      ]
     },
     "metadata": {},
     "execution_count": 3
    }
   ],
   "source": [
    "lats"
   ]
  },
  {
   "cell_type": "code",
   "execution_count": 6,
   "metadata": {},
   "outputs": [],
   "source": [
    "# Add latitudes and longitudes to a list\n",
    "coordintates = list(lat_lngs)"
   ]
  },
  {
   "cell_type": "code",
   "execution_count": 10,
   "metadata": {},
   "outputs": [
    {
     "output_type": "execute_result",
     "data": {
      "text/plain": [
       "641"
      ]
     },
     "metadata": {},
     "execution_count": 10
    }
   ],
   "source": [
    "# running citipy on our zipped lat_lngs\n",
    "# create list to hold city names returned\n",
    "cities = []\n",
    "\n",
    "# Identify nearest city to lat and long combination from our numpy array\n",
    "for coordintate in coordintates:\n",
    "    city = citipy.nearest_city(coordintate[0], coordintate[1]).city_name\n",
    "\n",
    "    # check to see if the city name is unique, if it is then add it to our list\n",
    "    if city not in cities:\n",
    "        cities.append(city)\n",
    "# print the length of our city list\n",
    "len(cities)"
   ]
  },
  {
   "cell_type": "code",
   "execution_count": 12,
   "metadata": {},
   "outputs": [
    {
     "output_type": "execute_result",
     "data": {
      "text/plain": [
       "[(10.653949986368971, 86.38633762111095),\n",
       " (-35.269348395613235, -66.39315278984311),\n",
       " (-19.008300256759043, -73.84324195516182)]"
      ]
     },
     "metadata": {},
     "execution_count": 12
    }
   ],
   "source": [
    "coordintates[:3]"
   ]
  },
  {
   "cell_type": "code",
   "execution_count": null,
   "metadata": {},
   "outputs": [],
   "source": []
  }
 ]
}