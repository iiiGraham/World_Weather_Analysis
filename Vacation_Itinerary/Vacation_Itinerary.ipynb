{
 "cells": [
  {
   "cell_type": "markdown",
   "metadata": {},
   "source": [
    "## Deliverable 3. Create a Travel Itinerary Map."
   ]
  },
  {
   "cell_type": "code",
   "execution_count": 2,
   "metadata": {},
   "outputs": [],
   "source": [
    "# Dependencies and Setup\n",
    "import pandas as pd\n",
    "import requests\n",
    "import gmaps\n",
    "\n",
    "# Import API key\n",
    "from config import g_key\n",
    "\n",
    "# Configure gmaps\n",
    "gmaps.configure(api_key=g_key)"
   ]
  },
  {
   "cell_type": "code",
   "execution_count": 3,
   "metadata": {},
   "outputs": [
    {
     "output_type": "execute_result",
     "data": {
      "text/plain": [
       "   City_ID           City Country  Max Temp Current Description      Lat  \\\n",
       "0        1         Marion      US     57.20       broken clouds  39.7684   \n",
       "1        3  Alta Floresta      BR     71.26     overcast clouds  -9.8756   \n",
       "2        5          Otane      NZ     68.00     overcast clouds -39.8833   \n",
       "3        6           Atar      MR     79.56     overcast clouds  20.5169   \n",
       "4       10    Yellowknife      CA     41.00          few clouds  62.4560   \n",
       "\n",
       "        Lng                               Hotel Name  \n",
       "0  -86.1555  Hilton Garden Inn Indianapolis Downtown  \n",
       "1  -56.0861                 Floresta Amazonica Hotel  \n",
       "2  176.6333                          Ludlow Farmstay  \n",
       "3  -13.0499                           Oumou Elghoura  \n",
       "4 -114.3525                       The Explorer Hotel  "
      ],
      "text/html": "<div>\n<style scoped>\n    .dataframe tbody tr th:only-of-type {\n        vertical-align: middle;\n    }\n\n    .dataframe tbody tr th {\n        vertical-align: top;\n    }\n\n    .dataframe thead th {\n        text-align: right;\n    }\n</style>\n<table border=\"1\" class=\"dataframe\">\n  <thead>\n    <tr style=\"text-align: right;\">\n      <th></th>\n      <th>City_ID</th>\n      <th>City</th>\n      <th>Country</th>\n      <th>Max Temp</th>\n      <th>Current Description</th>\n      <th>Lat</th>\n      <th>Lng</th>\n      <th>Hotel Name</th>\n    </tr>\n  </thead>\n  <tbody>\n    <tr>\n      <th>0</th>\n      <td>1</td>\n      <td>Marion</td>\n      <td>US</td>\n      <td>57.20</td>\n      <td>broken clouds</td>\n      <td>39.7684</td>\n      <td>-86.1555</td>\n      <td>Hilton Garden Inn Indianapolis Downtown</td>\n    </tr>\n    <tr>\n      <th>1</th>\n      <td>3</td>\n      <td>Alta Floresta</td>\n      <td>BR</td>\n      <td>71.26</td>\n      <td>overcast clouds</td>\n      <td>-9.8756</td>\n      <td>-56.0861</td>\n      <td>Floresta Amazonica Hotel</td>\n    </tr>\n    <tr>\n      <th>2</th>\n      <td>5</td>\n      <td>Otane</td>\n      <td>NZ</td>\n      <td>68.00</td>\n      <td>overcast clouds</td>\n      <td>-39.8833</td>\n      <td>176.6333</td>\n      <td>Ludlow Farmstay</td>\n    </tr>\n    <tr>\n      <th>3</th>\n      <td>6</td>\n      <td>Atar</td>\n      <td>MR</td>\n      <td>79.56</td>\n      <td>overcast clouds</td>\n      <td>20.5169</td>\n      <td>-13.0499</td>\n      <td>Oumou Elghoura</td>\n    </tr>\n    <tr>\n      <th>4</th>\n      <td>10</td>\n      <td>Yellowknife</td>\n      <td>CA</td>\n      <td>41.00</td>\n      <td>few clouds</td>\n      <td>62.4560</td>\n      <td>-114.3525</td>\n      <td>The Explorer Hotel</td>\n    </tr>\n  </tbody>\n</table>\n</div>"
     },
     "metadata": {},
     "execution_count": 3
    }
   ],
   "source": [
    "# 1. Read the WeatherPy_vacation.csv into a DataFrame.\n",
    "vacation_df = pd.read_csv(\"../Vacation_Search/WeatherPy_Vacation.csv\")\n",
    "# vacation_df = pd.read_csv(\"Vacation_Search/WeatherPy_vacation.csv\")\n",
    "vacation_df.head()"
   ]
  },
  {
   "cell_type": "code",
   "execution_count": 6,
   "metadata": {},
   "outputs": [],
   "source": [
    "# 2. Using the template add the city name, the country code, the weather description and maximum temperature for the city.\n",
    "info_box_template = \"\"\"\n",
    "<dl>\n",
    "<dt>Hotel Name</dt><dd>{Hotel Name}</dd>\n",
    "<dt>City</dt><dd>{City}</dd>\n",
    "<dt>Country</dt><dd>{Country}</dd>\n",
    "<dt>Current Weather</dt><dd>{Current Description} °F</dd>\n",
    "</dl>\n",
    "\"\"\"\n",
    "\n",
    "# 3a. Get the data from each row and add it to the formatting template and store the data in a list.\n",
    "hotel_info = [info_box_template.format(**row) for index, row in vacation_df.iterrows()]\n",
    "\n",
    "# 3b. Get the latitude and longitude from each row and store in a new DataFrame.\n",
    "locations = vacation_df[[\"Lat\", \"Lng\"]]"
   ]
  },
  {
   "cell_type": "code",
   "execution_count": 7,
   "metadata": {},
   "outputs": [
    {
     "output_type": "display_data",
     "data": {
      "text/plain": "Figure(layout=FigureLayout(height='420px'))",
      "application/vnd.jupyter.widget-view+json": {
       "version_major": 2,
       "version_minor": 0,
       "model_id": "46a8f1029da34316a47a4a89a290178c"
      }
     },
     "metadata": {}
    }
   ],
   "source": [
    "# 4a. Add a marker layer for each city to the map.\n",
    "fig = gmaps.figure(center=(30.0, 31.0), zoom_level=1.5)\n",
    "\n",
    "# create marker layer\n",
    "marker_layer = gmaps.marker_layer(locations, info_box_content=hotel_info)\n",
    "\n",
    "# add marker layer to fig\n",
    "fig.add_layer(marker_layer)\n",
    "# 4b. Display the figure\n",
    "fig"
   ]
  },
  {
   "cell_type": "code",
   "execution_count": 13,
   "metadata": {},
   "outputs": [],
   "source": [
    "# From the map above pick 4 cities and create a vacation itinerary route to travel between the four cities. \n",
    "# 5. Create DataFrames for each city by filtering the 'vacation_df' using the loc method. \n",
    "# Hint: The starting and ending city should be the same city.\n",
    "\n",
    "vacation_start = vacation_df.loc[vacation_df[\"City\"] == \"Concepcion Del Oro\"]\n",
    "vacation_end = vacation_df.loc[vacation_df[\"City\"] == \"Concepcion Del Oro\"]\n",
    "vacation_stop1 = vacation_df.loc[vacation_df[\"City\"] == \"Stephenville\"]\n",
    "vacation_stop2 = vacation_df.loc[vacation_df[\"City\"] == \"Golden\"]\n",
    "vacation_stop3 =vacation_df.loc[vacation_df[\"City\"] == \"Rapid Valley\"]"
   ]
  },
  {
   "cell_type": "code",
   "execution_count": 33,
   "metadata": {},
   "outputs": [],
   "source": [
    "# 6. Get the latitude-longitude pairs as tuples from each city DataFrame using the to_numpy function and list indexing.\n",
    "start = [tuple(x) for x in vacation_start[[\"Lat\", \"Lng\"]].to_numpy()][0]\n",
    "end = [tuple(x) for x in vacation_end[[\"Lat\", \"Lng\"]].to_numpy()][0]\n",
    "stop1 = [tuple(x) for x in vacation_stop1[[\"Lat\", \"Lng\"]].to_numpy()][0]\n",
    "stop2 = [tuple(x) for x in vacation_stop2[[\"Lat\", \"Lng\"]].to_numpy()][0]\n",
    "stop3 = [tuple(x) for x in vacation_stop3[[\"Lat\", \"Lng\"]].to_numpy()][0]"
   ]
  },
  {
   "cell_type": "code",
   "execution_count": 37,
   "metadata": {
    "scrolled": true
   },
   "outputs": [
    {
     "output_type": "display_data",
     "data": {
      "text/plain": "Figure(layout=FigureLayout(height='420px'))",
      "application/vnd.jupyter.widget-view+json": {
       "version_major": 2,
       "version_minor": 0,
       "model_id": "314919c3a11649b0b72133490a7cad12"
      }
     },
     "metadata": {}
    }
   ],
   "source": [
    "# 7. Create a direction layer map using the start and end latitude-longitude pairs,\n",
    "# and stop1, stop2, and stop3 as the waypoints. The travel_mode should be \"DRIVING\", \"BICYCLING\", or \"WALKING\".\n",
    "# lat and long pairs\n",
    "# create variables for directions\n",
    "# start_to_stop1 = gmaps.directions_layer(start, stop1)\n",
    "# stop1_to_stop2 = gmaps.directions_layer(stop1, stop2)\n",
    "# stop2_to_stop_3 = gmaps.directions_layer(stop2, stop3)\n",
    "# stop3_to_end = gmaps.directions_layer(stop3, end)\n",
    "start_to_end = gmaps.directions_layer(start, end, waypoints=[stop1, stop2, stop3], travel_mode='DRIVING')\n",
    "\n",
    "# create gmaps fig\n",
    "fig = gmaps.figure()\n",
    "\n",
    "# Add layer to the map\n",
    "fig.add_layer(start_to_end)\n",
    "fig"
   ]
  },
  {
   "cell_type": "code",
   "execution_count": 39,
   "metadata": {},
   "outputs": [
    {
     "output_type": "execute_result",
     "data": {
      "text/plain": [
       "   City_ID                City Country  Max Temp Current Description      Lat  \\\n",
       "0      152  Concepcion Del Oro      MX     67.50     overcast clouds  24.6333   \n",
       "1      150        Stephenville      US     62.60           clear sky  32.2207   \n",
       "2      115              Golden      US     55.99       broken clouds  39.7555   \n",
       "3      235        Rapid Valley      US     50.00    scattered clouds  44.0625   \n",
       "\n",
       "        Lng                                      Hotel Name  \n",
       "0 -101.4167                       HOTEL HACIENDA SAN JAVIER  \n",
       "1  -98.2023  La Quinta Inn & Suites by Wyndham Stephenville  \n",
       "2 -105.2211       The Golden Hotel, Ascend Hotel Collection  \n",
       "3 -103.1463   Fairfield Inn & Suites by Marriott Rapid City  "
      ],
      "text/html": "<div>\n<style scoped>\n    .dataframe tbody tr th:only-of-type {\n        vertical-align: middle;\n    }\n\n    .dataframe tbody tr th {\n        vertical-align: top;\n    }\n\n    .dataframe thead th {\n        text-align: right;\n    }\n</style>\n<table border=\"1\" class=\"dataframe\">\n  <thead>\n    <tr style=\"text-align: right;\">\n      <th></th>\n      <th>City_ID</th>\n      <th>City</th>\n      <th>Country</th>\n      <th>Max Temp</th>\n      <th>Current Description</th>\n      <th>Lat</th>\n      <th>Lng</th>\n      <th>Hotel Name</th>\n    </tr>\n  </thead>\n  <tbody>\n    <tr>\n      <th>0</th>\n      <td>152</td>\n      <td>Concepcion Del Oro</td>\n      <td>MX</td>\n      <td>67.50</td>\n      <td>overcast clouds</td>\n      <td>24.6333</td>\n      <td>-101.4167</td>\n      <td>HOTEL HACIENDA SAN JAVIER</td>\n    </tr>\n    <tr>\n      <th>1</th>\n      <td>150</td>\n      <td>Stephenville</td>\n      <td>US</td>\n      <td>62.60</td>\n      <td>clear sky</td>\n      <td>32.2207</td>\n      <td>-98.2023</td>\n      <td>La Quinta Inn &amp; Suites by Wyndham Stephenville</td>\n    </tr>\n    <tr>\n      <th>2</th>\n      <td>115</td>\n      <td>Golden</td>\n      <td>US</td>\n      <td>55.99</td>\n      <td>broken clouds</td>\n      <td>39.7555</td>\n      <td>-105.2211</td>\n      <td>The Golden Hotel, Ascend Hotel Collection</td>\n    </tr>\n    <tr>\n      <th>3</th>\n      <td>235</td>\n      <td>Rapid Valley</td>\n      <td>US</td>\n      <td>50.00</td>\n      <td>scattered clouds</td>\n      <td>44.0625</td>\n      <td>-103.1463</td>\n      <td>Fairfield Inn &amp; Suites by Marriott Rapid City</td>\n    </tr>\n  </tbody>\n</table>\n</div>"
     },
     "metadata": {},
     "execution_count": 39
    }
   ],
   "source": [
    "# 8. To create a marker layer map between the four cities.\n",
    "#  Combine the four city DataFrames into one DataFrame using the concat() function.\n",
    "itinerary_df = pd.concat([vacation_start, vacation_stop1, vacation_stop2, vacation_stop3],ignore_index=True)\n",
    "itinerary_df"
   ]
  },
  {
   "cell_type": "code",
   "execution_count": 40,
   "metadata": {},
   "outputs": [],
   "source": [
    "# 9 Using the template add city name, the country code, the weather description and maximum temperature for the city. \n",
    "info_box_template = \"\"\"\n",
    "<dl>\n",
    "<dt>Hotel Name</dt><dd>{Hotel Name}</dd>\n",
    "<dt>City</dt><dd>{City}</dd>\n",
    "<dt>Country</dt><dd>{Country}</dd>\n",
    "<dt>Current Weather</dt><dd>{Current Description} °F</dd>\n",
    "</dl>\n",
    "\"\"\"\n",
    "\n",
    "# 10a Get the data from each row and add it to the formatting template and store the data in a list.\n",
    "hotel_info = [info_box_template.format(**row) for index, row in itinerary_df.iterrows()]\n",
    "\n",
    "# 10b. Get the latitude and longitude from each row and store in a new DataFrame.\n",
    "locations = itinerary_df[[\"Lat\", \"Lng\"]]"
   ]
  },
  {
   "cell_type": "code",
   "execution_count": 46,
   "metadata": {},
   "outputs": [
    {
     "output_type": "display_data",
     "data": {
      "text/plain": "Figure(layout=FigureLayout(height='420px'))",
      "application/vnd.jupyter.widget-view+json": {
       "version_major": 2,
       "version_minor": 0,
       "model_id": "a23de7fb0e0b49dd890f0502c3f930d3"
      }
     },
     "metadata": {}
    }
   ],
   "source": [
    "# 11a. Add a marker layer for each city to the map.\n",
    "fig = gmaps.figure()\n",
    "\n",
    "trip_marker_layer = gmaps.marker_layer(locations, info_box_content=hotel_info)\n",
    "\n",
    "fig.add_layer(trip_marker_layer)\n",
    "\n",
    "# 11b. Display the figure\n",
    "fig"
   ]
  },
  {
   "cell_type": "code",
   "execution_count": null,
   "metadata": {},
   "outputs": [],
   "source": []
  }
 ],
 "metadata": {
  "kernelspec": {
   "name": "pythondata",
   "display_name": "Python 3.7.3 64-bit ('base': conda)"
  },
  "language_info": {
   "codemirror_mode": {
    "name": "ipython",
    "version": 3
   },
   "file_extension": ".py",
   "mimetype": "text/x-python",
   "name": "python",
   "nbconvert_exporter": "python",
   "pygments_lexer": "ipython3",
   "version": "3.7.3"
  },
  "latex_envs": {
   "LaTeX_envs_menu_present": true,
   "autoclose": false,
   "autocomplete": true,
   "bibliofile": "biblio.bib",
   "cite_by": "apalike",
   "current_citInitial": 1,
   "eqLabelWithNumbers": true,
   "eqNumInitial": 1,
   "hotkeys": {
    "equation": "Ctrl-E",
    "itemize": "Ctrl-I"
   },
   "labels_anchors": false,
   "latex_user_defs": false,
   "report_style_numbering": false,
   "user_envs_cfg": false
  }
 },
 "nbformat": 4,
 "nbformat_minor": 2
}