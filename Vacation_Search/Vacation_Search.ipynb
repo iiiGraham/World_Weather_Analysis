{
 "cells": [
  {
   "cell_type": "markdown",
   "metadata": {},
   "source": [
    "## Deliverable 2. Create a Customer Travel Destinations Map."
   ]
  },
  {
   "cell_type": "code",
   "execution_count": 67,
   "metadata": {},
   "outputs": [],
   "source": [
    "# Dependencies and Setup\n",
    "import pandas as pd\n",
    "import requests\n",
    "import gmaps\n",
    "import json\n",
    "import numpy as np\n",
    "\n",
    "# Import API key\n",
    "from config import g_key\n",
    "\n",
    "# Configure gmaps API key\n",
    "gmaps.configure(api_key=g_key)"
   ]
  },
  {
   "cell_type": "code",
   "execution_count": 38,
   "metadata": {},
   "outputs": [
    {
     "output_type": "execute_result",
     "data": {
      "text/plain": [
       "   City ID            City Country      Lat       Lng  Max Temp  Humidty  \\\n",
       "0        0          Mokolo      CM  10.7398   13.8019     83.43       19   \n",
       "1        1          Marion      US  39.7684  -86.1555     57.20       50   \n",
       "2        2  Severo-Kurilsk      RU  50.6789  156.1250     35.19       96   \n",
       "3        3   Alta Floresta      BR  -9.8756  -56.0861     71.26       95   \n",
       "4        4    Krasnoselkup      RU  65.7000   82.4667     -6.03       92   \n",
       "\n",
       "   Cloudiness  Wind Speed Current Description  \n",
       "0          99        4.63     overcast clouds  \n",
       "1          75        6.91       broken clouds  \n",
       "2         100       27.98       moderate rain  \n",
       "3         100        1.45     overcast clouds  \n",
       "4           6       18.19           clear sky  "
      ],
      "text/html": "<div>\n<style scoped>\n    .dataframe tbody tr th:only-of-type {\n        vertical-align: middle;\n    }\n\n    .dataframe tbody tr th {\n        vertical-align: top;\n    }\n\n    .dataframe thead th {\n        text-align: right;\n    }\n</style>\n<table border=\"1\" class=\"dataframe\">\n  <thead>\n    <tr style=\"text-align: right;\">\n      <th></th>\n      <th>City ID</th>\n      <th>City</th>\n      <th>Country</th>\n      <th>Lat</th>\n      <th>Lng</th>\n      <th>Max Temp</th>\n      <th>Humidty</th>\n      <th>Cloudiness</th>\n      <th>Wind Speed</th>\n      <th>Current Description</th>\n    </tr>\n  </thead>\n  <tbody>\n    <tr>\n      <th>0</th>\n      <td>0</td>\n      <td>Mokolo</td>\n      <td>CM</td>\n      <td>10.7398</td>\n      <td>13.8019</td>\n      <td>83.43</td>\n      <td>19</td>\n      <td>99</td>\n      <td>4.63</td>\n      <td>overcast clouds</td>\n    </tr>\n    <tr>\n      <th>1</th>\n      <td>1</td>\n      <td>Marion</td>\n      <td>US</td>\n      <td>39.7684</td>\n      <td>-86.1555</td>\n      <td>57.20</td>\n      <td>50</td>\n      <td>75</td>\n      <td>6.91</td>\n      <td>broken clouds</td>\n    </tr>\n    <tr>\n      <th>2</th>\n      <td>2</td>\n      <td>Severo-Kurilsk</td>\n      <td>RU</td>\n      <td>50.6789</td>\n      <td>156.1250</td>\n      <td>35.19</td>\n      <td>96</td>\n      <td>100</td>\n      <td>27.98</td>\n      <td>moderate rain</td>\n    </tr>\n    <tr>\n      <th>3</th>\n      <td>3</td>\n      <td>Alta Floresta</td>\n      <td>BR</td>\n      <td>-9.8756</td>\n      <td>-56.0861</td>\n      <td>71.26</td>\n      <td>95</td>\n      <td>100</td>\n      <td>1.45</td>\n      <td>overcast clouds</td>\n    </tr>\n    <tr>\n      <th>4</th>\n      <td>4</td>\n      <td>Krasnoselkup</td>\n      <td>RU</td>\n      <td>65.7000</td>\n      <td>82.4667</td>\n      <td>-6.03</td>\n      <td>92</td>\n      <td>6</td>\n      <td>18.19</td>\n      <td>clear sky</td>\n    </tr>\n  </tbody>\n</table>\n</div>"
     },
     "metadata": {},
     "execution_count": 38
    }
   ],
   "source": [
    "# 1. Import the WeatherPy_database.csv file. \n",
    "city_data_df = pd.read_csv(\"../Weather_Database/WeatherPy_database.csv\")\n",
    "city_data_df.head()"
   ]
  },
  {
   "cell_type": "code",
   "execution_count": 41,
   "metadata": {},
   "outputs": [],
   "source": [
    "# 2. Prompt the user to enter minimum and maximum temperature criteria \n",
    "# get user input to suggest where user should travel based on preferences\n",
    "# Ask the customer to add a minimum and maximum temperature value.\n",
    "min_temp = float(input(\"What is the minimum temperature you would like for your trip? \"))\n",
    "max_temp = float(input(\"What is the maximum temperature you would like for your trip? \"))"
   ]
  },
  {
   "cell_type": "code",
   "execution_count": 45,
   "metadata": {},
   "outputs": [
    {
     "output_type": "execute_result",
     "data": {
      "text/plain": [
       "    City ID           City Country      Lat       Lng  Max Temp  Humidty  \\\n",
       "1         1         Marion      US  39.7684  -86.1555     57.20       50   \n",
       "3         3  Alta Floresta      BR  -9.8756  -56.0861     71.26       95   \n",
       "5         5          Otane      NZ -39.8833  176.6333     68.00       59   \n",
       "6         6           Atar      MR  20.5169  -13.0499     79.56       14   \n",
       "10       10    Yellowknife      CA  62.4560 -114.3525     41.00       48   \n",
       "11       11        Rikitea      PF -23.1203 -134.9692     77.92       75   \n",
       "12       12        Atambua      ID  -9.1061  124.8925     79.52       61   \n",
       "13       13          Kapaa      US  22.0752 -159.3190     78.80       61   \n",
       "14       14           Tura      IN  25.5198   90.2201     69.31       85   \n",
       "18       18         Touros      BR  -5.1989  -35.4608     75.20       94   \n",
       "\n",
       "    Cloudiness  Wind Speed Current Description  \n",
       "1           75        6.91       broken clouds  \n",
       "3          100        1.45     overcast clouds  \n",
       "5           92        4.00     overcast clouds  \n",
       "6           97        6.87     overcast clouds  \n",
       "10          20       10.36          few clouds  \n",
       "11          11        6.91          few clouds  \n",
       "12         100        2.93     overcast clouds  \n",
       "13          40       13.80    scattered clouds  \n",
       "14           0        4.09           clear sky  \n",
       "18          40        3.44    scattered clouds  "
      ],
      "text/html": "<div>\n<style scoped>\n    .dataframe tbody tr th:only-of-type {\n        vertical-align: middle;\n    }\n\n    .dataframe tbody tr th {\n        vertical-align: top;\n    }\n\n    .dataframe thead th {\n        text-align: right;\n    }\n</style>\n<table border=\"1\" class=\"dataframe\">\n  <thead>\n    <tr style=\"text-align: right;\">\n      <th></th>\n      <th>City ID</th>\n      <th>City</th>\n      <th>Country</th>\n      <th>Lat</th>\n      <th>Lng</th>\n      <th>Max Temp</th>\n      <th>Humidty</th>\n      <th>Cloudiness</th>\n      <th>Wind Speed</th>\n      <th>Current Description</th>\n    </tr>\n  </thead>\n  <tbody>\n    <tr>\n      <th>1</th>\n      <td>1</td>\n      <td>Marion</td>\n      <td>US</td>\n      <td>39.7684</td>\n      <td>-86.1555</td>\n      <td>57.20</td>\n      <td>50</td>\n      <td>75</td>\n      <td>6.91</td>\n      <td>broken clouds</td>\n    </tr>\n    <tr>\n      <th>3</th>\n      <td>3</td>\n      <td>Alta Floresta</td>\n      <td>BR</td>\n      <td>-9.8756</td>\n      <td>-56.0861</td>\n      <td>71.26</td>\n      <td>95</td>\n      <td>100</td>\n      <td>1.45</td>\n      <td>overcast clouds</td>\n    </tr>\n    <tr>\n      <th>5</th>\n      <td>5</td>\n      <td>Otane</td>\n      <td>NZ</td>\n      <td>-39.8833</td>\n      <td>176.6333</td>\n      <td>68.00</td>\n      <td>59</td>\n      <td>92</td>\n      <td>4.00</td>\n      <td>overcast clouds</td>\n    </tr>\n    <tr>\n      <th>6</th>\n      <td>6</td>\n      <td>Atar</td>\n      <td>MR</td>\n      <td>20.5169</td>\n      <td>-13.0499</td>\n      <td>79.56</td>\n      <td>14</td>\n      <td>97</td>\n      <td>6.87</td>\n      <td>overcast clouds</td>\n    </tr>\n    <tr>\n      <th>10</th>\n      <td>10</td>\n      <td>Yellowknife</td>\n      <td>CA</td>\n      <td>62.4560</td>\n      <td>-114.3525</td>\n      <td>41.00</td>\n      <td>48</td>\n      <td>20</td>\n      <td>10.36</td>\n      <td>few clouds</td>\n    </tr>\n    <tr>\n      <th>11</th>\n      <td>11</td>\n      <td>Rikitea</td>\n      <td>PF</td>\n      <td>-23.1203</td>\n      <td>-134.9692</td>\n      <td>77.92</td>\n      <td>75</td>\n      <td>11</td>\n      <td>6.91</td>\n      <td>few clouds</td>\n    </tr>\n    <tr>\n      <th>12</th>\n      <td>12</td>\n      <td>Atambua</td>\n      <td>ID</td>\n      <td>-9.1061</td>\n      <td>124.8925</td>\n      <td>79.52</td>\n      <td>61</td>\n      <td>100</td>\n      <td>2.93</td>\n      <td>overcast clouds</td>\n    </tr>\n    <tr>\n      <th>13</th>\n      <td>13</td>\n      <td>Kapaa</td>\n      <td>US</td>\n      <td>22.0752</td>\n      <td>-159.3190</td>\n      <td>78.80</td>\n      <td>61</td>\n      <td>40</td>\n      <td>13.80</td>\n      <td>scattered clouds</td>\n    </tr>\n    <tr>\n      <th>14</th>\n      <td>14</td>\n      <td>Tura</td>\n      <td>IN</td>\n      <td>25.5198</td>\n      <td>90.2201</td>\n      <td>69.31</td>\n      <td>85</td>\n      <td>0</td>\n      <td>4.09</td>\n      <td>clear sky</td>\n    </tr>\n    <tr>\n      <th>18</th>\n      <td>18</td>\n      <td>Touros</td>\n      <td>BR</td>\n      <td>-5.1989</td>\n      <td>-35.4608</td>\n      <td>75.20</td>\n      <td>94</td>\n      <td>40</td>\n      <td>3.44</td>\n      <td>scattered clouds</td>\n    </tr>\n  </tbody>\n</table>\n</div>"
     },
     "metadata": {},
     "execution_count": 45
    }
   ],
   "source": [
    "# 3. Filter the city_data_df DataFrame using the input statements to create a new DataFrame using the loc method.\n",
    "preferred_cities_df = city_data_df.loc[(city_data_df[\"Max Temp\"] >= min_temp) & (city_data_df[\"Max Temp\"] < max_temp)]\n",
    "\n",
    "preferred_cities_df.head(10)"
   ]
  },
  {
   "cell_type": "code",
   "execution_count": 46,
   "metadata": {},
   "outputs": [
    {
     "output_type": "execute_result",
     "data": {
      "text/plain": [
       "City ID                0\n",
       "City                   0\n",
       "Country                4\n",
       "Lat                    0\n",
       "Lng                    0\n",
       "Max Temp               0\n",
       "Humidty                0\n",
       "Cloudiness             0\n",
       "Wind Speed             0\n",
       "Current Description    0\n",
       "dtype: int64"
      ]
     },
     "metadata": {},
     "execution_count": 46
    }
   ],
   "source": [
    "# 4a. Determine if there are any empty rows.\n",
    "preferred_cities_df.isnull().sum()"
   ]
  },
  {
   "cell_type": "code",
   "execution_count": 64,
   "metadata": {},
   "outputs": [],
   "source": [
    "# 4b. Drop any empty rows and create a new DataFrame that doesn’t have empty rows.\n",
    "pref_cities_df_clean = preferred_cities_df.dropna()"
   ]
  },
  {
   "cell_type": "code",
   "execution_count": 68,
   "metadata": {},
   "outputs": [
    {
     "output_type": "execute_result",
     "data": {
      "text/plain": [
       "             City Country  Max Temp Current Description      Lat       Lng  \\\n",
       "1          Marion      US     57.20       broken clouds  39.7684  -86.1555   \n",
       "3   Alta Floresta      BR     71.26     overcast clouds  -9.8756  -56.0861   \n",
       "5           Otane      NZ     68.00     overcast clouds -39.8833  176.6333   \n",
       "6            Atar      MR     79.56     overcast clouds  20.5169  -13.0499   \n",
       "10    Yellowknife      CA     41.00          few clouds  62.4560 -114.3525   \n",
       "11        Rikitea      PF     77.92          few clouds -23.1203 -134.9692   \n",
       "12        Atambua      ID     79.52     overcast clouds  -9.1061  124.8925   \n",
       "13          Kapaa      US     78.80    scattered clouds  22.0752 -159.3190   \n",
       "14           Tura      IN     69.31           clear sky  25.5198   90.2201   \n",
       "18         Touros      BR     75.20    scattered clouds  -5.1989  -35.4608   \n",
       "\n",
       "    Hotel Name  \n",
       "1          NaN  \n",
       "3          NaN  \n",
       "5          NaN  \n",
       "6          NaN  \n",
       "10         NaN  \n",
       "11         NaN  \n",
       "12         NaN  \n",
       "13         NaN  \n",
       "14         NaN  \n",
       "18         NaN  "
      ],
      "text/html": "<div>\n<style scoped>\n    .dataframe tbody tr th:only-of-type {\n        vertical-align: middle;\n    }\n\n    .dataframe tbody tr th {\n        vertical-align: top;\n    }\n\n    .dataframe thead th {\n        text-align: right;\n    }\n</style>\n<table border=\"1\" class=\"dataframe\">\n  <thead>\n    <tr style=\"text-align: right;\">\n      <th></th>\n      <th>City</th>\n      <th>Country</th>\n      <th>Max Temp</th>\n      <th>Current Description</th>\n      <th>Lat</th>\n      <th>Lng</th>\n      <th>Hotel Name</th>\n    </tr>\n  </thead>\n  <tbody>\n    <tr>\n      <th>1</th>\n      <td>Marion</td>\n      <td>US</td>\n      <td>57.20</td>\n      <td>broken clouds</td>\n      <td>39.7684</td>\n      <td>-86.1555</td>\n      <td>NaN</td>\n    </tr>\n    <tr>\n      <th>3</th>\n      <td>Alta Floresta</td>\n      <td>BR</td>\n      <td>71.26</td>\n      <td>overcast clouds</td>\n      <td>-9.8756</td>\n      <td>-56.0861</td>\n      <td>NaN</td>\n    </tr>\n    <tr>\n      <th>5</th>\n      <td>Otane</td>\n      <td>NZ</td>\n      <td>68.00</td>\n      <td>overcast clouds</td>\n      <td>-39.8833</td>\n      <td>176.6333</td>\n      <td>NaN</td>\n    </tr>\n    <tr>\n      <th>6</th>\n      <td>Atar</td>\n      <td>MR</td>\n      <td>79.56</td>\n      <td>overcast clouds</td>\n      <td>20.5169</td>\n      <td>-13.0499</td>\n      <td>NaN</td>\n    </tr>\n    <tr>\n      <th>10</th>\n      <td>Yellowknife</td>\n      <td>CA</td>\n      <td>41.00</td>\n      <td>few clouds</td>\n      <td>62.4560</td>\n      <td>-114.3525</td>\n      <td>NaN</td>\n    </tr>\n    <tr>\n      <th>11</th>\n      <td>Rikitea</td>\n      <td>PF</td>\n      <td>77.92</td>\n      <td>few clouds</td>\n      <td>-23.1203</td>\n      <td>-134.9692</td>\n      <td>NaN</td>\n    </tr>\n    <tr>\n      <th>12</th>\n      <td>Atambua</td>\n      <td>ID</td>\n      <td>79.52</td>\n      <td>overcast clouds</td>\n      <td>-9.1061</td>\n      <td>124.8925</td>\n      <td>NaN</td>\n    </tr>\n    <tr>\n      <th>13</th>\n      <td>Kapaa</td>\n      <td>US</td>\n      <td>78.80</td>\n      <td>scattered clouds</td>\n      <td>22.0752</td>\n      <td>-159.3190</td>\n      <td>NaN</td>\n    </tr>\n    <tr>\n      <th>14</th>\n      <td>Tura</td>\n      <td>IN</td>\n      <td>69.31</td>\n      <td>clear sky</td>\n      <td>25.5198</td>\n      <td>90.2201</td>\n      <td>NaN</td>\n    </tr>\n    <tr>\n      <th>18</th>\n      <td>Touros</td>\n      <td>BR</td>\n      <td>75.20</td>\n      <td>scattered clouds</td>\n      <td>-5.1989</td>\n      <td>-35.4608</td>\n      <td>NaN</td>\n    </tr>\n  </tbody>\n</table>\n</div>"
     },
     "metadata": {},
     "execution_count": 68
    }
   ],
   "source": [
    "# 5a. Create DataFrame called hotel_df to store hotel names along with city, country, max temp, and coordinates.\n",
    "hotel_df = pref_cities_df_clean[[\"City\", \"Country\", \"Max Temp\", \"Current Description\", \"Lat\", \"Lng\"]].copy()\n",
    "\n",
    "# 5b. Create a new column \"Hotel Name\"\n",
    "hotel_df[\"Hotel Name\"] = np.nan\n",
    "hotel_df.head(10)"
   ]
  },
  {
   "cell_type": "code",
   "execution_count": 70,
   "metadata": {},
   "outputs": [
    {
     "output_type": "stream",
     "name": "stdout",
     "text": [
      "No hotels in this location... checking next city.\n",
      "No hotels in this location... checking next city.\n",
      "No hotels in this location... checking next city.\n",
      "No hotels in this location... checking next city.\n",
      "No hotels in this location... checking next city.\n",
      "No hotels in this location... checking next city.\n",
      "No hotels in this location... checking next city.\n",
      "No hotels in this location... checking next city.\n",
      "No hotels in this location... checking next city.\n",
      "No hotels in this location... checking next city.\n",
      "No hotels in this location... checking next city.\n",
      "No hotels in this location... checking next city.\n",
      "No hotels in this location... checking next city.\n",
      "No hotels in this location... checking next city.\n",
      "No hotels in this location... checking next city.\n",
      "No hotels in this location... checking next city.\n",
      "No hotels in this location... checking next city.\n",
      "No hotels in this location... checking next city.\n",
      "No hotels in this location... checking next city.\n",
      "No hotels in this location... checking next city.\n",
      "No hotels in this location... checking next city.\n",
      "No hotels in this location... checking next city.\n",
      "No hotels in this location... checking next city.\n",
      "No hotels in this location... checking next city.\n",
      "No hotels in this location... checking next city.\n",
      "No hotels in this location... checking next city.\n",
      "No hotels in this location... checking next city.\n",
      "No hotels in this location... checking next city.\n",
      "No hotels in this location... checking next city.\n",
      "No hotels in this location... checking next city.\n",
      "No hotels in this location... checking next city.\n",
      "No hotels in this location... checking next city.\n"
     ]
    }
   ],
   "source": [
    "# 6a. Set parameters to search for hotels with 5000 meters.\n",
    "params = {\n",
    "    \"radius\": 5000,\n",
    "    \"type\": \"lodging\",\n",
    "    \"key\": g_key\n",
    "}\n",
    "\n",
    "# 6b. Iterate through the hotel DataFrame.\n",
    "for index, row in hotel_df.iterrows():\n",
    "    # 6c. Get latitude and longitude from DataFrame\n",
    "    lat = row[\"Lat\"]\n",
    "    lng = row[\"Lng\"]\n",
    "    \n",
    "    # set lat and long as parameters for google maps search\n",
    "    params[\"location\"] = f\"{lat},{lng}\"\n",
    "\n",
    "    # 6d. Set up the base URL for the Google Directions API to get JSON data.\n",
    "    base_url = \"https://maps.googleapis.com/maps/api/place/nearbysearch/json\"\n",
    "\n",
    "    # 6e. Make request and retrieve the JSON data from the search. \n",
    "    hotels = requests.get(base_url, params=params).json()\n",
    "    # try request\n",
    "    try:\n",
    "        # 6f. Get the first hotel from the results and store the name, if a hotel isn't found skip the city.\n",
    "        hotel_df.loc[index, \"Hotel Name\"] = hotels[\"results\"][0][\"name\"]\n",
    "    except (IndexError):\n",
    "        print(\"No hotels in this location... checking next city.\")\n",
    "        "
   ]
  },
  {
   "cell_type": "code",
   "execution_count": 74,
   "metadata": {},
   "outputs": [],
   "source": [
    "# 7. Drop the rows where there is no Hotel Name.\n",
    "clean_hotel_df = hotel_df.dropna()\n",
    "\n",
    "# could have done this by resetting the df to everything that did not equal blank - then would not have had to re run the API calls...\n",
    "\n",
    "# clean_hotel_df = hotel_df[hotel_df[\"Hotel Name\"] != 0]"
   ]
  },
  {
   "cell_type": "code",
   "execution_count": 75,
   "metadata": {},
   "outputs": [
    {
     "output_type": "execute_result",
     "data": {
      "text/plain": [
       "City                   0\n",
       "Country                0\n",
       "Max Temp               0\n",
       "Current Description    0\n",
       "Lat                    0\n",
       "Lng                    0\n",
       "Hotel Name             0\n",
       "dtype: int64"
      ]
     },
     "metadata": {},
     "execution_count": 75
    }
   ],
   "source": [
    "clean_hotel_df.isnull().sum()"
   ]
  },
  {
   "cell_type": "code",
   "execution_count": 58,
   "metadata": {},
   "outputs": [],
   "source": [
    "# 8a. Create the output File (CSV)\n",
    "output_data_file = \"WeatherPy_Vacation.csv\"\n",
    "# 8b. Export the City_Data into a csv\n",
    "clean_hotel_df.to_csv(output_data_file, index_label=\"City_ID\")"
   ]
  },
  {
   "cell_type": "code",
   "execution_count": 76,
   "metadata": {},
   "outputs": [],
   "source": [
    "# 9. Using the template add city name, the country code, the weather description and maximum temperature for the city.\n",
    "info_box_template = \"\"\"\n",
    "<dl>\n",
    "<dt>Hotel Name</dt><dd>{Hotel Name}</dd>\n",
    "<dt>City</dt><dd>{City}</dd>\n",
    "<dt>Country</dt><dd>{Country}</dd>\n",
    "<dt>Max Temp</dt><dd>{Max Temp} °F</dd>\n",
    "</dl>\n",
    "\"\"\"\n",
    "\n",
    "# 10a. Get the data from each row and add it to the formatting template and store the data in a list.\n",
    "hotel_info = [info_box_template.format(**row) for index, row in clean_hotel_df.iterrows()]\n",
    "\n",
    "# 10b. Get the latitude and longitude from each row and store in a new DataFrame.\n",
    "locations = clean_hotel_df[[\"Lat\", \"Lng\"]]"
   ]
  },
  {
   "cell_type": "code",
   "execution_count": 78,
   "metadata": {},
   "outputs": [
    {
     "output_type": "display_data",
     "data": {
      "text/plain": "Figure(layout=FigureLayout(height='420px'))",
      "application/vnd.jupyter.widget-view+json": {
       "version_major": 2,
       "version_minor": 0,
       "model_id": "302be554578d4479b4e1d20be88711af"
      }
     },
     "metadata": {}
    }
   ],
   "source": [
    "# 11a. Add a marker layer for each city to the map. \n",
    "# create gmap fig\n",
    "fig = gmaps.figure(center=(30.0, 31.0), zoom_level=1.5)\n",
    "marker_layer = gmaps.marker_layer(locations, info_box_content=hotel_info)\n",
    "\n",
    "# add markers to figure\n",
    "fig.add_layer(marker_layer)\n",
    "# 11b. Display the figure\n",
    "fig"
   ]
  },
  {
   "cell_type": "code",
   "execution_count": null,
   "metadata": {},
   "outputs": [],
   "source": []
  },
  {
   "cell_type": "code",
   "execution_count": null,
   "metadata": {},
   "outputs": [],
   "source": []
  }
 ],
 "metadata": {
  "kernelspec": {
   "name": "python373jvsc74a57bd00b1100a6e3d86991db2f81aa57c997bff50562e4634186a3ede3838f47f03487",
   "display_name": "Python 3.7.3 64-bit ('base': conda)"
  },
  "language_info": {
   "codemirror_mode": {
    "name": "ipython",
    "version": 3
   },
   "file_extension": ".py",
   "mimetype": "text/x-python",
   "name": "python",
   "nbconvert_exporter": "python",
   "pygments_lexer": "ipython3",
   "version": "3.7.3"
  },
  "latex_envs": {
   "LaTeX_envs_menu_present": true,
   "autoclose": false,
   "autocomplete": true,
   "bibliofile": "biblio.bib",
   "cite_by": "apalike",
   "current_citInitial": 1,
   "eqLabelWithNumbers": true,
   "eqNumInitial": 1,
   "hotkeys": {
    "equation": "Ctrl-E",
    "itemize": "Ctrl-I"
   },
   "labels_anchors": false,
   "latex_user_defs": false,
   "report_style_numbering": false,
   "user_envs_cfg": false
  }
 },
 "nbformat": 4,
 "nbformat_minor": 2
}