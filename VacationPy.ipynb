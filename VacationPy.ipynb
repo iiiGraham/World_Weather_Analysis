{
 "cells": [
  {
   "cell_type": "code",
   "execution_count": null,
   "metadata": {},
   "outputs": [],
   "source": []
  },
  {
   "cell_type": "code",
   "execution_count": 1,
   "metadata": {},
   "outputs": [],
   "source": [
    "# import dependencies\n",
    "import pandas as pd\n",
    "import gmaps\n",
    "import requests\n",
    "\n",
    "# import API key\n",
    "from config import g_key\n",
    "\n",
    "# configure gmaps\n",
    "gmaps.configure(api_key=g_key)"
   ]
  },
  {
   "cell_type": "code",
   "execution_count": 2,
   "metadata": {},
   "outputs": [
    {
     "output_type": "execute_result",
     "data": {
      "text/plain": [
       "     City_ID      City Country                 Date      Lat      Lng  \\\n",
       "548      548     Atasu      KZ  2021-04-17 15:17:57  48.6814  71.6433   \n",
       "549      549  Penzance      GB  2021-04-17 15:17:57  50.1186  -5.5371   \n",
       "550      550     Balvi      LV  2021-04-17 15:17:57  57.1313  27.2658   \n",
       "551      551  Buraydah      SA  2021-04-17 15:17:58  26.3260  43.9750   \n",
       "552      552     Soria      ES  2021-04-17 15:17:58  41.6667  -2.6667   \n",
       "\n",
       "     Max Temp  Humidity  Cloudiness  Wind Speed  \n",
       "548     55.33        49          19        8.39  \n",
       "549     51.80        50          20        9.22  \n",
       "550     56.77        64         100        9.31  \n",
       "551     84.20        26          40        9.22  \n",
       "552     45.00        53           1       10.00  "
      ],
      "text/html": "<div>\n<style scoped>\n    .dataframe tbody tr th:only-of-type {\n        vertical-align: middle;\n    }\n\n    .dataframe tbody tr th {\n        vertical-align: top;\n    }\n\n    .dataframe thead th {\n        text-align: right;\n    }\n</style>\n<table border=\"1\" class=\"dataframe\">\n  <thead>\n    <tr style=\"text-align: right;\">\n      <th></th>\n      <th>City_ID</th>\n      <th>City</th>\n      <th>Country</th>\n      <th>Date</th>\n      <th>Lat</th>\n      <th>Lng</th>\n      <th>Max Temp</th>\n      <th>Humidity</th>\n      <th>Cloudiness</th>\n      <th>Wind Speed</th>\n    </tr>\n  </thead>\n  <tbody>\n    <tr>\n      <th>548</th>\n      <td>548</td>\n      <td>Atasu</td>\n      <td>KZ</td>\n      <td>2021-04-17 15:17:57</td>\n      <td>48.6814</td>\n      <td>71.6433</td>\n      <td>55.33</td>\n      <td>49</td>\n      <td>19</td>\n      <td>8.39</td>\n    </tr>\n    <tr>\n      <th>549</th>\n      <td>549</td>\n      <td>Penzance</td>\n      <td>GB</td>\n      <td>2021-04-17 15:17:57</td>\n      <td>50.1186</td>\n      <td>-5.5371</td>\n      <td>51.80</td>\n      <td>50</td>\n      <td>20</td>\n      <td>9.22</td>\n    </tr>\n    <tr>\n      <th>550</th>\n      <td>550</td>\n      <td>Balvi</td>\n      <td>LV</td>\n      <td>2021-04-17 15:17:57</td>\n      <td>57.1313</td>\n      <td>27.2658</td>\n      <td>56.77</td>\n      <td>64</td>\n      <td>100</td>\n      <td>9.31</td>\n    </tr>\n    <tr>\n      <th>551</th>\n      <td>551</td>\n      <td>Buraydah</td>\n      <td>SA</td>\n      <td>2021-04-17 15:17:58</td>\n      <td>26.3260</td>\n      <td>43.9750</td>\n      <td>84.20</td>\n      <td>26</td>\n      <td>40</td>\n      <td>9.22</td>\n    </tr>\n    <tr>\n      <th>552</th>\n      <td>552</td>\n      <td>Soria</td>\n      <td>ES</td>\n      <td>2021-04-17 15:17:58</td>\n      <td>41.6667</td>\n      <td>-2.6667</td>\n      <td>45.00</td>\n      <td>53</td>\n      <td>1</td>\n      <td>10.00</td>\n    </tr>\n  </tbody>\n</table>\n</div>"
     },
     "metadata": {},
     "execution_count": 2
    }
   ],
   "source": [
    "# store CSV data in dataframe\n",
    "city_data_df = pd.read_csv(\"weather_data/cities.csv\")\n",
    "city_data_df.tail()"
   ]
  },
  {
   "cell_type": "code",
   "execution_count": 3,
   "metadata": {},
   "outputs": [
    {
     "output_type": "stream",
     "name": "stdout",
     "text": [
      "<class 'pandas.core.frame.DataFrame'>\nRangeIndex: 553 entries, 0 to 552\nData columns (total 10 columns):\n #   Column      Non-Null Count  Dtype  \n---  ------      --------------  -----  \n 0   City_ID     553 non-null    int64  \n 1   City        553 non-null    object \n 2   Country     550 non-null    object \n 3   Date        553 non-null    object \n 4   Lat         553 non-null    float64\n 5   Lng         553 non-null    float64\n 6   Max Temp    553 non-null    float64\n 7   Humidity    553 non-null    int64  \n 8   Cloudiness  553 non-null    int64  \n 9   Wind Speed  553 non-null    float64\ndtypes: float64(4), int64(3), object(3)\nmemory usage: 43.3+ KB\n"
     ]
    }
   ],
   "source": [
    "# API reuiqres float or int in lat and long measures so make sure we have the rigth data types\n",
    "city_data_df.info()"
   ]
  },
  {
   "cell_type": "markdown",
   "metadata": {},
   "source": [
    "#### Create heatmap using google maps and latitude and longitude information from our data frame - steps to create a heatmap are below\n",
    "\n",
    "#### 1. Assign the locations to an array of latitude and longitude pairs.\n",
    "locations = [latitude, longitude]\n",
    "\n",
    "#### 2. Assign the weights variable to some values.\n",
    "temperatures = # an array of length equal to the locations array length\n",
    "\n",
    "#### 3. Assign the figure variable to the gmaps.figure() attribute.\n",
    "fig = gmaps.figure()\n",
    "\n",
    "#### 4. Assign the heatmap_layer variable to the heatmap_layer attribute and add in the locations.\n",
    "heatmap_layer = gmaps.heatmap_layer(locations, weights=temperatures)\n",
    "\n",
    "#### 5. Add the heatmap layer.\n",
    "fig.add_layer(heatmap_layer)\n",
    "\n",
    "#### 6. Call the figure to plot the data.\n",
    "fig"
   ]
  },
  {
   "cell_type": "code",
   "execution_count": 11,
   "metadata": {},
   "outputs": [
    {
     "output_type": "execute_result",
     "data": {
      "text/plain": [
       "' ended up not using this code - instead this is in the place of weights as a list comprehension '"
      ]
     },
     "metadata": {},
     "execution_count": 11
    }
   ],
   "source": [
    "# # heatmaps don't take negative numbers so we need to separate the positive and negative numbers in Max Temp\n",
    "# max_temp = city_data_df[\"Max Temp\"]\n",
    "# temps = []\n",
    "# for temp in max_temp:\n",
    "#     # temps.append(max(temp, 0))\n",
    "\n",
    "''' ended up not using this code - instead this is in the place of weights as a list comprehension '''"
   ]
  },
  {
   "cell_type": "code",
   "execution_count": 10,
   "metadata": {},
   "outputs": [],
   "source": [
    "# Assign location of latitude and longitude\n",
    "locations = city_data_df[[\"Lat\", \"Lng\"]]\n",
    "\n",
    "# Assign figure variable to gmaps.figure() which we can then call later with fig\n",
    "# center map on the geographic center of Earth 30.0 N and 31.0 E\n",
    "fig = gmaps.figure(center=30.0, 31.0), zoom_level=1.5)\n",
    "\n",
    "# Assign the heatmap variable - produces the heat map output on the gmap fig\n",
    "heat_layer = gmaps.heatmap_layer(locations, weights=[max(temp, 0) for temp in max_temp], dissipating=False, max_intensity=300, point_radius=4)\n",
    "\n",
    "# Add the heatmap layer we created to the figure - fig\n",
    "fig.add_layer(heat_layer)\n",
    "\n",
    "\n",
    "fig = gmaps.figure(center=(30.0, 31.0), zoom_level=1.5)\n",
    "\n",
    "# call the figure to plot our data\n",
    "# fig"
   ]
  },
  {
   "cell_type": "code",
   "execution_count": 14,
   "metadata": {},
   "outputs": [
    {
     "output_type": "display_data",
     "data": {
      "text/plain": "Figure(layout=FigureLayout(height='420px'))",
      "application/vnd.jupyter.widget-view+json": {
       "version_major": 2,
       "version_minor": 0,
       "model_id": "bb1b9a86731347d4a4c283c81b925184"
      }
     },
     "metadata": {}
    }
   ],
   "source": [
    "# create gmap with percent humidity\n",
    "# location\n",
    "# Assign location of latitude and longitude\n",
    "locations = city_data_df[[\"Lat\", \"Lng\"]]\n",
    "\n",
    "# weight = humidity %\n",
    "humidity = city_data_df[\"Humidity\"]\n",
    "\n",
    "# center map on the geographic center of Earth 30.0 N and 31.0 E\n",
    "fig = gmaps.figure(center=(30.0, 31.0), zoom_level=1.5)\n",
    "\n",
    "# add heat layer to the map\n",
    "heat_layer=gmaps.heatmap_layer(locations, weights=humidity, dissipating=False, max_intensity=300, point_radius=4)\n",
    "\n",
    "# call figure to plot the data\n",
    "fig.add_layer(heat_layer)\n",
    "fig"
   ]
  },
  {
   "cell_type": "code",
   "execution_count": null,
   "metadata": {},
   "outputs": [],
   "source": [
    "# create gmap with cloudiness\n",
    "# location\n",
    "# Assign location of latitude and longitude\n",
    "locations = city_data_df[[\"Lat\", \"Lng\"]]\n",
    "\n",
    "# weight = humidity %\n",
    "cloudiness = city_data_df[\"Cloudiness\"]\n",
    "\n",
    "# center map on the geographic center of Earth 30.0 N and 31.0 E\n",
    "fig = gmaps.figure(center=(30.0, 31.0), zoom_level=1.5)\n",
    "\n",
    "# add heat layer to the map\n",
    "heat_layer=gmaps.heatmap_layer(locations, weights=cloudiness, dissipating=False, max_intensity=300, point_radius=4)\n",
    "\n",
    "# call figure to plot the data\n",
    "fig.add_layer(heat_layer)"
   ]
  },
  {
   "cell_type": "code",
   "execution_count": null,
   "metadata": {},
   "outputs": [],
   "source": [
    "# create gmap with wind speed\n",
    "# location\n",
    "# Assign location of latitude and longitude\n",
    "locations = city_data_df[[\"Lat\", \"Lng\"]]\n",
    "\n",
    "# weight = humidity %\n",
    "wind = city_data_df[\"Wind Speed\"]\n",
    "\n",
    "# center map on the geographic center of Earth 30.0 N and 31.0 E\n",
    "fig = gmaps.figure(center=(30.0, 31.0), zoom_level=1.5)\n",
    "\n",
    "# add heat layer to the map\n",
    "heat_layer=gmaps.heatmap_layer(locations, weights=wind, dissipating=False, max_intensity=300, point_radius=4)\n",
    "\n",
    "# call figure to plot the data\n",
    "fig.add_layer(heat_layer)"
   ]
  },
  {
   "cell_type": "code",
   "execution_count": 15,
   "metadata": {},
   "outputs": [],
   "source": [
    "# get user input to suggest where user should travel based on preferences\n",
    "# Ask the customer to add a minimum and maximum temperature value.\n",
    "min_temp = float(input(\"What is the minimum temperature you would like for your trip? \"))\n",
    "max_temp = float(input(\"What is the maximum temperature you would like for your trip? \"))"
   ]
  },
  {
   "cell_type": "code",
   "execution_count": 24,
   "metadata": {},
   "outputs": [
    {
     "output_type": "execute_result",
     "data": {
      "text/plain": [
       "    City_ID             City Country                 Date      Lat       Lng  \\\n",
       "1         1         Victoria      HK  2021-04-17 15:13:53  22.2855  114.1577   \n",
       "3         3         Souillac      MU  2021-04-17 15:15:22 -20.5167   57.5167   \n",
       "4         4      Port-Gentil      GA  2021-04-17 15:15:23  -0.7193    8.7815   \n",
       "15       15  Arraial Do Cabo      BR  2021-04-17 15:15:26 -22.9661  -42.0278   \n",
       "16       16         Alenquer      BR  2021-04-17 15:15:26  -1.9417  -54.7383   \n",
       "22       22          Rikitea      PF  2021-04-17 15:15:28 -23.1203 -134.9692   \n",
       "24       24   Saint-Philippe      RE  2021-04-17 15:15:29 -21.3585   55.7679   \n",
       "29       29     Port Hedland      AU  2021-04-17 15:15:30 -20.3167  118.5667   \n",
       "30       30        Hithadhoo      MV  2021-04-17 15:15:31  -0.6000   73.0833   \n",
       "32       32           Tutoia      BR  2021-04-17 15:15:31  -2.7619  -42.2744   \n",
       "\n",
       "    Max Temp  Humidity  Cloudiness  Wind Speed  \n",
       "1      75.00        81          96       15.79  \n",
       "3      80.60        83          75        1.14  \n",
       "4      89.60        70          20       13.80  \n",
       "15     80.60        69          40       21.85  \n",
       "16     84.20        79          75        8.05  \n",
       "22     76.77        68          94        8.12  \n",
       "24     77.00        73          90        5.75  \n",
       "29     77.00        65          47        8.05  \n",
       "30     82.90        62          33        6.31  \n",
       "32     86.00        70          75       11.50  "
      ],
      "text/html": "<div>\n<style scoped>\n    .dataframe tbody tr th:only-of-type {\n        vertical-align: middle;\n    }\n\n    .dataframe tbody tr th {\n        vertical-align: top;\n    }\n\n    .dataframe thead th {\n        text-align: right;\n    }\n</style>\n<table border=\"1\" class=\"dataframe\">\n  <thead>\n    <tr style=\"text-align: right;\">\n      <th></th>\n      <th>City_ID</th>\n      <th>City</th>\n      <th>Country</th>\n      <th>Date</th>\n      <th>Lat</th>\n      <th>Lng</th>\n      <th>Max Temp</th>\n      <th>Humidity</th>\n      <th>Cloudiness</th>\n      <th>Wind Speed</th>\n    </tr>\n  </thead>\n  <tbody>\n    <tr>\n      <th>1</th>\n      <td>1</td>\n      <td>Victoria</td>\n      <td>HK</td>\n      <td>2021-04-17 15:13:53</td>\n      <td>22.2855</td>\n      <td>114.1577</td>\n      <td>75.00</td>\n      <td>81</td>\n      <td>96</td>\n      <td>15.79</td>\n    </tr>\n    <tr>\n      <th>3</th>\n      <td>3</td>\n      <td>Souillac</td>\n      <td>MU</td>\n      <td>2021-04-17 15:15:22</td>\n      <td>-20.5167</td>\n      <td>57.5167</td>\n      <td>80.60</td>\n      <td>83</td>\n      <td>75</td>\n      <td>1.14</td>\n    </tr>\n    <tr>\n      <th>4</th>\n      <td>4</td>\n      <td>Port-Gentil</td>\n      <td>GA</td>\n      <td>2021-04-17 15:15:23</td>\n      <td>-0.7193</td>\n      <td>8.7815</td>\n      <td>89.60</td>\n      <td>70</td>\n      <td>20</td>\n      <td>13.80</td>\n    </tr>\n    <tr>\n      <th>15</th>\n      <td>15</td>\n      <td>Arraial Do Cabo</td>\n      <td>BR</td>\n      <td>2021-04-17 15:15:26</td>\n      <td>-22.9661</td>\n      <td>-42.0278</td>\n      <td>80.60</td>\n      <td>69</td>\n      <td>40</td>\n      <td>21.85</td>\n    </tr>\n    <tr>\n      <th>16</th>\n      <td>16</td>\n      <td>Alenquer</td>\n      <td>BR</td>\n      <td>2021-04-17 15:15:26</td>\n      <td>-1.9417</td>\n      <td>-54.7383</td>\n      <td>84.20</td>\n      <td>79</td>\n      <td>75</td>\n      <td>8.05</td>\n    </tr>\n    <tr>\n      <th>22</th>\n      <td>22</td>\n      <td>Rikitea</td>\n      <td>PF</td>\n      <td>2021-04-17 15:15:28</td>\n      <td>-23.1203</td>\n      <td>-134.9692</td>\n      <td>76.77</td>\n      <td>68</td>\n      <td>94</td>\n      <td>8.12</td>\n    </tr>\n    <tr>\n      <th>24</th>\n      <td>24</td>\n      <td>Saint-Philippe</td>\n      <td>RE</td>\n      <td>2021-04-17 15:15:29</td>\n      <td>-21.3585</td>\n      <td>55.7679</td>\n      <td>77.00</td>\n      <td>73</td>\n      <td>90</td>\n      <td>5.75</td>\n    </tr>\n    <tr>\n      <th>29</th>\n      <td>29</td>\n      <td>Port Hedland</td>\n      <td>AU</td>\n      <td>2021-04-17 15:15:30</td>\n      <td>-20.3167</td>\n      <td>118.5667</td>\n      <td>77.00</td>\n      <td>65</td>\n      <td>47</td>\n      <td>8.05</td>\n    </tr>\n    <tr>\n      <th>30</th>\n      <td>30</td>\n      <td>Hithadhoo</td>\n      <td>MV</td>\n      <td>2021-04-17 15:15:31</td>\n      <td>-0.6000</td>\n      <td>73.0833</td>\n      <td>82.90</td>\n      <td>62</td>\n      <td>33</td>\n      <td>6.31</td>\n    </tr>\n    <tr>\n      <th>32</th>\n      <td>32</td>\n      <td>Tutoia</td>\n      <td>BR</td>\n      <td>2021-04-17 15:15:31</td>\n      <td>-2.7619</td>\n      <td>-42.2744</td>\n      <td>86.00</td>\n      <td>70</td>\n      <td>75</td>\n      <td>11.50</td>\n    </tr>\n  </tbody>\n</table>\n</div>"
     },
     "metadata": {},
     "execution_count": 24
    }
   ],
   "source": [
    "# filter city database with the preferred temperature range and create new df - add dropna() to get rid of anything that we do not have complete information on\n",
    "preferred_cities_df = city_data_df.loc[(city_data_df[\"Max Temp\"] <= max_temp) & (city_data_df[\"Max Temp\"] >= min_temp)].dropna()\n",
    "preferred_cities_df.head(10)"
   ]
  },
  {
   "cell_type": "code",
   "execution_count": 25,
   "metadata": {},
   "outputs": [
    {
     "output_type": "execute_result",
     "data": {
      "text/plain": [
       "City_ID       0\n",
       "City          0\n",
       "Country       0\n",
       "Date          0\n",
       "Lat           0\n",
       "Lng           0\n",
       "Max Temp      0\n",
       "Humidity      0\n",
       "Cloudiness    0\n",
       "Wind Speed    0\n",
       "dtype: int64"
      ]
     },
     "metadata": {},
     "execution_count": 25
    }
   ],
   "source": [
    "preferred_cities_df.isnull().sum()"
   ]
  },
  {
   "cell_type": "code",
   "execution_count": 26,
   "metadata": {},
   "outputs": [
    {
     "output_type": "execute_result",
     "data": {
      "text/plain": [
       "               City Country  Max Temp      Lat       Lng Hotel Name\n",
       "1          Victoria      HK      75.0  22.2855  114.1577           \n",
       "3          Souillac      MU      80.6 -20.5167   57.5167           \n",
       "4       Port-Gentil      GA      89.6  -0.7193    8.7815           \n",
       "15  Arraial Do Cabo      BR      80.6 -22.9661  -42.0278           \n",
       "16         Alenquer      BR      84.2  -1.9417  -54.7383           "
      ],
      "text/html": "<div>\n<style scoped>\n    .dataframe tbody tr th:only-of-type {\n        vertical-align: middle;\n    }\n\n    .dataframe tbody tr th {\n        vertical-align: top;\n    }\n\n    .dataframe thead th {\n        text-align: right;\n    }\n</style>\n<table border=\"1\" class=\"dataframe\">\n  <thead>\n    <tr style=\"text-align: right;\">\n      <th></th>\n      <th>City</th>\n      <th>Country</th>\n      <th>Max Temp</th>\n      <th>Lat</th>\n      <th>Lng</th>\n      <th>Hotel Name</th>\n    </tr>\n  </thead>\n  <tbody>\n    <tr>\n      <th>1</th>\n      <td>Victoria</td>\n      <td>HK</td>\n      <td>75.0</td>\n      <td>22.2855</td>\n      <td>114.1577</td>\n      <td></td>\n    </tr>\n    <tr>\n      <th>3</th>\n      <td>Souillac</td>\n      <td>MU</td>\n      <td>80.6</td>\n      <td>-20.5167</td>\n      <td>57.5167</td>\n      <td></td>\n    </tr>\n    <tr>\n      <th>4</th>\n      <td>Port-Gentil</td>\n      <td>GA</td>\n      <td>89.6</td>\n      <td>-0.7193</td>\n      <td>8.7815</td>\n      <td></td>\n    </tr>\n    <tr>\n      <th>15</th>\n      <td>Arraial Do Cabo</td>\n      <td>BR</td>\n      <td>80.6</td>\n      <td>-22.9661</td>\n      <td>-42.0278</td>\n      <td></td>\n    </tr>\n    <tr>\n      <th>16</th>\n      <td>Alenquer</td>\n      <td>BR</td>\n      <td>84.2</td>\n      <td>-1.9417</td>\n      <td>-54.7383</td>\n      <td></td>\n    </tr>\n  </tbody>\n</table>\n</div>"
     },
     "metadata": {},
     "execution_count": 26
    }
   ],
   "source": [
    "# use preferred temps df to create new df which will be used to display hotel locations\n",
    "hotel_df = preferred_cities_df[[\"City\", \"Country\", \"Max Temp\", \"Lat\", \"Lng\"]].copy()\n",
    "hotel_df[\"Hotel Name\"] = \"\"\n",
    "# create blank column which can be filled with hotel names\n",
    "hotel_df.head()"
   ]
  },
  {
   "cell_type": "code",
   "execution_count": null,
   "metadata": {},
   "outputs": [],
   "source": [
    "# places base url\n",
    "# \"https://maps.googleapis.com/maps/api/place/nearbysearch/json\""
   ]
  },
  {
   "cell_type": "code",
   "execution_count": 32,
   "metadata": {},
   "outputs": [],
   "source": [
    "# Set parameters to search for a hotel.\n",
    "params = {\n",
    "    \"radius\": 5000,\n",
    "    \"type\": \"lodging\",\n",
    "    \"key\": g_key\n",
    "}"
   ]
  },
  {
   "cell_type": "code",
   "execution_count": 34,
   "metadata": {},
   "outputs": [
    {
     "output_type": "stream",
     "name": "stdout",
     "text": [
      "Hotel not found... skipping.\n",
      "Hotel not found... skipping.\n",
      "Hotel not found... skipping.\n",
      "Hotel not found... skipping.\n",
      "Hotel not found... skipping.\n",
      "Hotel not found... skipping.\n",
      "Hotel not found... skipping.\n",
      "Hotel not found... skipping.\n",
      "Hotel not found... skipping.\n"
     ]
    }
   ],
   "source": [
    "# Iterate through the DataFrame.\n",
    "for index, row in hotel_df.iterrows():\n",
    "    # Get the latitude and longitude.\n",
    "    lat = row[\"Lat\"]\n",
    "    lng = row[\"Lng\"]\n",
    "\n",
    "    # Add the latitude and longitude to location key for the params dictionary.\n",
    "    params[\"location\"] = f\"{lat},{lng}\"\n",
    "\n",
    "    # Use the search term: \"lodging\" and our latitude and longitude.\n",
    "    base_url = \"https://maps.googleapis.com/maps/api/place/nearbysearch/json\"\n",
    "    # Make request and get the JSON data from the search.\n",
    "    hotels = requests.get(base_url, params=params).json()\n",
    "    # Grab the first hotel from the results and store the name.\n",
    "    try:\n",
    "        hotel_df.loc[index, \"Hotel Name\"] = hotels[\"results\"][0][\"name\"]\n",
    "    except (IndexError):\n",
    "        print(\"Hotel not found... skipping.\")"
   ]
  },
  {
   "cell_type": "code",
   "execution_count": 35,
   "metadata": {},
   "outputs": [
    {
     "output_type": "execute_result",
     "data": {
      "text/plain": [
       "               City Country  Max Temp      Lat       Lng  \\\n",
       "1          Victoria      HK      75.0  22.2855  114.1577   \n",
       "3          Souillac      MU      80.6 -20.5167   57.5167   \n",
       "4       Port-Gentil      GA      89.6  -0.7193    8.7815   \n",
       "15  Arraial Do Cabo      BR      80.6 -22.9661  -42.0278   \n",
       "16         Alenquer      BR      84.2  -1.9417  -54.7383   \n",
       "\n",
       "                     Hotel Name  \n",
       "1            Mini Hotel Central  \n",
       "3   Shanti Maurice Resort & Spa  \n",
       "4            Fengshui Residence  \n",
       "15          Pousada Porto Praia  \n",
       "16              Josilene Castro  "
      ],
      "text/html": "<div>\n<style scoped>\n    .dataframe tbody tr th:only-of-type {\n        vertical-align: middle;\n    }\n\n    .dataframe tbody tr th {\n        vertical-align: top;\n    }\n\n    .dataframe thead th {\n        text-align: right;\n    }\n</style>\n<table border=\"1\" class=\"dataframe\">\n  <thead>\n    <tr style=\"text-align: right;\">\n      <th></th>\n      <th>City</th>\n      <th>Country</th>\n      <th>Max Temp</th>\n      <th>Lat</th>\n      <th>Lng</th>\n      <th>Hotel Name</th>\n    </tr>\n  </thead>\n  <tbody>\n    <tr>\n      <th>1</th>\n      <td>Victoria</td>\n      <td>HK</td>\n      <td>75.0</td>\n      <td>22.2855</td>\n      <td>114.1577</td>\n      <td>Mini Hotel Central</td>\n    </tr>\n    <tr>\n      <th>3</th>\n      <td>Souillac</td>\n      <td>MU</td>\n      <td>80.6</td>\n      <td>-20.5167</td>\n      <td>57.5167</td>\n      <td>Shanti Maurice Resort &amp; Spa</td>\n    </tr>\n    <tr>\n      <th>4</th>\n      <td>Port-Gentil</td>\n      <td>GA</td>\n      <td>89.6</td>\n      <td>-0.7193</td>\n      <td>8.7815</td>\n      <td>Fengshui Residence</td>\n    </tr>\n    <tr>\n      <th>15</th>\n      <td>Arraial Do Cabo</td>\n      <td>BR</td>\n      <td>80.6</td>\n      <td>-22.9661</td>\n      <td>-42.0278</td>\n      <td>Pousada Porto Praia</td>\n    </tr>\n    <tr>\n      <th>16</th>\n      <td>Alenquer</td>\n      <td>BR</td>\n      <td>84.2</td>\n      <td>-1.9417</td>\n      <td>-54.7383</td>\n      <td>Josilene Castro</td>\n    </tr>\n  </tbody>\n</table>\n</div>"
     },
     "metadata": {},
     "execution_count": 35
    }
   ],
   "source": [
    "hotel_df.head()"
   ]
  },
  {
   "cell_type": "code",
   "execution_count": 37,
   "metadata": {},
   "outputs": [],
   "source": [
    "# Add a heatmap of temperature for the vacation spots.\n",
    "locations = hotel_df[[\"Lat\", \"Lng\"]]\n",
    "max_temp = hotel_df[\"Max Temp\"]\n",
    "fig = gmaps.figure(center=(30.0, 31.0), zoom_level=1.5)\n",
    "heat_layer = gmaps.heatmap_layer(locations, weights=max_temp, dissipating=False,\n",
    "             max_intensity=300, point_radius=4)\n",
    "\n",
    "fig.add_layer(heat_layer)\n",
    "\n",
    "# create info box to display when clicking on map markers\n",
    "info_box_template = \"\"\"\n",
    "<dl>\n",
    "<dt>Hotel Name</dt><dd>{Hotel Name}</dd>\n",
    "<dt>City</dt><dd>{City}</dd>\n",
    "<dt>Country</dt><dd>{Country}</dd>\n",
    "<dt>Max Temp</dt><dd>{Max Temp} °F</dd>\n",
    "</dl>\n",
    "\"\"\"\n",
    "# store DateFrame row information\n",
    "hotel_info = [info_box_template.format(**row) for index, row in hotel_df.iterrows()]\n",
    "\n",
    "# add markers to gmaps from our hotel df\n",
    "marker_layer = gmaps.marker_layer(locations, info_box_content=hotel_info)\n",
    "fig.add_layer(marker_layer)"
   ]
  },
  {
   "cell_type": "code",
   "execution_count": 38,
   "metadata": {},
   "outputs": [
    {
     "output_type": "display_data",
     "data": {
      "text/plain": "Figure(layout=FigureLayout(height='420px'))",
      "application/vnd.jupyter.widget-view+json": {
       "version_major": 2,
       "version_minor": 0,
       "model_id": "9a143fcf36f044ffae2f4be034be0c66"
      }
     },
     "metadata": {}
    }
   ],
   "source": [
    "# Call the figure to plot the data.\n",
    "fig"
   ]
  },
  {
   "cell_type": "code",
   "execution_count": null,
   "metadata": {},
   "outputs": [],
   "source": [
    "# create info box to display when clicking on map markers\n",
    "info_box_template = \"\"\"\n",
    "<dl>\n",
    "<dt>Hotel Name</dt><dd>{Hotel Name}</dd>\n",
    "<dt>City</dt><dd>{City}</dd>\n",
    "<dt>Country</dt><dd>{Country}</dd>\n",
    "<dt>Max Temp</dt><dd>{Max Temp} °F</dd>\n",
    "</dl>\n",
    "\"\"\"\n",
    "\n"
   ]
  }
 ],
 "metadata": {
  "kernelspec": {
   "name": "pythondata",
   "display_name": "Python 3.7.3 64-bit ('base': conda)"
  },
  "language_info": {
   "codemirror_mode": {
    "name": "ipython",
    "version": 3
   },
   "file_extension": ".py",
   "mimetype": "text/x-python",
   "name": "python",
   "nbconvert_exporter": "python",
   "pygments_lexer": "ipython3",
   "version": "3.7.3"
  }
 },
 "nbformat": 4,
 "nbformat_minor": 4
}